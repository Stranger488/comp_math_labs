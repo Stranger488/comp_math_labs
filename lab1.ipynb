{
 "cells": [
  {
   "cell_type": "code",
   "execution_count": 10,
   "metadata": {},
   "outputs": [],
   "source": [
    "def l_i(i, x, x_nodes):\n",
    "    li = 1\n",
    "    \n",
    "    for j in range(len(x_nodes)):\n",
    "        if j != (i - 1):\n",
    "            li *= (x - x_nodes[j]) / (x_nodes[i - 1] - x_nodes[j])\n",
    "    return li"
   ]
  },
  {
   "cell_type": "code",
   "execution_count": 11,
   "metadata": {},
   "outputs": [
    {
     "name": "stdout",
     "output_type": "stream",
     "text": [
      "2.4609375\n"
     ]
    }
   ],
   "source": [
    "print(l_i(1,0.5, [1,2,3,4,5]))"
   ]
  },
  {
   "cell_type": "code",
   "execution_count": 17,
   "metadata": {},
   "outputs": [],
   "source": [
    "def L(x, x_nodes, y_nodes):\n",
    "    Lx = 0\n",
    "    \n",
    "    for i in range(len(x_nodes)):\n",
    "        Lx += y_nodes[i] * l_i(i + 1, x, x_nodes)\n",
    "    return Lx"
   ]
  },
  {
   "cell_type": "code",
   "execution_count": 18,
   "metadata": {},
   "outputs": [
    {
     "name": "stdout",
     "output_type": "stream",
     "text": [
      "4.5\n"
     ]
    }
   ],
   "source": [
    "print(L(0.5, [1,2,3], [5,6,7]))"
   ]
  },
  {
   "cell_type": "code",
   "execution_count": null,
   "metadata": {},
   "outputs": [],
   "source": []
  }
 ],
 "metadata": {
  "kernelspec": {
   "display_name": "Python 3",
   "language": "python",
   "name": "python3"
  },
  "language_info": {
   "codemirror_mode": {
    "name": "ipython",
    "version": 3
   },
   "file_extension": ".py",
   "mimetype": "text/x-python",
   "name": "python",
   "nbconvert_exporter": "python",
   "pygments_lexer": "ipython3",
   "version": "3.8.1"
  }
 },
 "nbformat": 4,
 "nbformat_minor": 4
}
